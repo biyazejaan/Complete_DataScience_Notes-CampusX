{
  "cells": [
    {
      "attachments": {},
      "cell_type": "markdown",
      "metadata": {
        "id": "J88qfqQEk_sT"
      },
      "source": [
        "### `Problem-1:` Create a random 3x4 matrix with value between 0-100. And perform below tasks\n",
        "\n",
        "    i. Sort this matrix. np.sort()\n",
        "    ii. Sort this matrix based on values in 2nd column.\n",
        "    iii. Sort this matrix based on max value in each row.\n",
        "    iv. Sort based on elements value.\n"
      ]
    },
    {
      "cell_type": "markdown",
      "metadata": {
        "id": "xpOwOdhqlE9R"
      },
      "source": [
        "See examples:\n",
        "```\n",
        "arr = \n",
        "    [[92 90 74]\n",
        "    [ 6 63 93]\n",
        "    [15 93 96]\n",
        "    [70 60 48]]\n",
        "```\n",
        "```\n",
        "i. np.sort\n",
        "[[74 90 92]\n",
        " [ 6 63 93]\n",
        " [15 93 96]\n",
        " [48 60 70]]\n",
        "\n",
        "ii. based on 2nd column\n",
        "[[70 60 48]\n",
        " [ 6 63 93]\n",
        " [92 90 74]\n",
        " [15 93 96]]\n",
        "\n",
        "iii. based on row max- ascending\n",
        "[[15 93 96]\n",
        " [ 6 63 93]\n",
        " [92 90 74]\n",
        " [70 60 48]]\n",
        "\n",
        "iv. based on elements value\n",
        "[[ 6 15 48]\n",
        " [60 63 70]\n",
        " [74 90 92]\n",
        " [93 93 96]]\n",
        "\n",
        "```"
      ]
    },
    {
      "cell_type": "code",
      "execution_count": 2,
      "metadata": {},
      "outputs": [],
      "source": [
        "import numpy as np"
      ]
    },
    {
      "cell_type": "code",
      "execution_count": 14,
      "metadata": {
        "id": "Auy-guUwlALv"
      },
      "outputs": [
        {
          "data": {
            "text/plain": [
              "array([[48, 88, 11, 19],\n",
              "       [38,  0, 76, 49],\n",
              "       [49, 35, 85, 25]])"
            ]
          },
          "execution_count": 14,
          "metadata": {},
          "output_type": "execute_result"
        }
      ],
      "source": [
        "# code here\n",
        "a = np.random.randint(0,100,12).reshape(3,4)\n",
        "a"
      ]
    },
    {
      "cell_type": "code",
      "execution_count": 15,
      "metadata": {},
      "outputs": [
        {
          "data": {
            "text/plain": [
              "array([[11, 19, 48, 88],\n",
              "       [ 0, 38, 49, 76],\n",
              "       [25, 35, 49, 85]])"
            ]
          },
          "execution_count": 15,
          "metadata": {},
          "output_type": "execute_result"
        }
      ],
      "source": [
        "# (i)Sort this matrix. np.sort()\n",
        "\n",
        "np.sort(a)"
      ]
    },
    {
      "cell_type": "code",
      "execution_count": 16,
      "metadata": {},
      "outputs": [
        {
          "data": {
            "text/plain": [
              "array([[38,  0, 76, 49],\n",
              "       [49, 35, 85, 25],\n",
              "       [48, 88, 11, 19]])"
            ]
          },
          "execution_count": 16,
          "metadata": {},
          "output_type": "execute_result"
        }
      ],
      "source": [
        "# (ii)Sort this matrix based on values in 2nd column.\n",
        "\n",
        "\n",
        "a[a[:, 1].argsort()]"
      ]
    },
    {
      "cell_type": "code",
      "execution_count": 26,
      "metadata": {},
      "outputs": [
        {
          "data": {
            "text/plain": [
              "array([[48, 88, 11, 19],\n",
              "       [38,  0, 76, 49],\n",
              "       [49, 35, 85, 25]])"
            ]
          },
          "execution_count": 26,
          "metadata": {},
          "output_type": "execute_result"
        }
      ],
      "source": [
        "a"
      ]
    },
    {
      "cell_type": "code",
      "execution_count": 25,
      "metadata": {},
      "outputs": [
        {
          "ename": "TypeError",
          "evalue": "sort() got an unexpected keyword argument 'key'",
          "output_type": "error",
          "traceback": [
            "\u001b[1;31m---------------------------------------------------------------------------\u001b[0m",
            "\u001b[1;31mTypeError\u001b[0m                                 Traceback (most recent call last)",
            "\u001b[1;32md:\\git\\jaan_repo\\Complete-Data-Science-Notes---CampusX-\\Session15\\solution_task_15_numpy_tricks .ipynb Cell 7\u001b[0m in \u001b[0;36m<cell line: 5>\u001b[1;34m()\u001b[0m\n\u001b[0;32m      <a href='vscode-notebook-cell:/d%3A/git/jaan_repo/Complete-Data-Science-Notes---CampusX-/Session15/solution_task_15_numpy_tricks%20.ipynb#X44sZmlsZQ%3D%3D?line=1'>2</a>\u001b[0m \u001b[39mdef\u001b[39;00m \u001b[39mmax_sort\u001b[39m(row):\n\u001b[0;32m      <a href='vscode-notebook-cell:/d%3A/git/jaan_repo/Complete-Data-Science-Notes---CampusX-/Session15/solution_task_15_numpy_tricks%20.ipynb#X44sZmlsZQ%3D%3D?line=2'>3</a>\u001b[0m \t\u001b[39mreturn\u001b[39;00m \u001b[39mmax\u001b[39m(row)\n\u001b[1;32m----> <a href='vscode-notebook-cell:/d%3A/git/jaan_repo/Complete-Data-Science-Notes---CampusX-/Session15/solution_task_15_numpy_tricks%20.ipynb#X44sZmlsZQ%3D%3D?line=4'>5</a>\u001b[0m a\u001b[39m.\u001b[39;49msort(key \u001b[39m=\u001b[39;49m max_sort, reverse \u001b[39m=\u001b[39;49m \u001b[39mTrue\u001b[39;49;00m)\n",
            "\u001b[1;31mTypeError\u001b[0m: sort() got an unexpected keyword argument 'key'"
          ]
        }
      ],
      "source": [
        "# (iii)Sort this matrix based on max value in each row.\n",
        "def max_sort(row):\n",
        "\treturn max(row)\n",
        "\n",
        "a.sort(key = max_sort, reverse = True)\n"
      ]
    },
    {
      "cell_type": "code",
      "execution_count": 24,
      "metadata": {},
      "outputs": [
        {
          "name": "stdout",
          "output_type": "stream",
          "text": [
            "The original list is : [[92, 90, 74], [6, 63, 93], [15, 93, 96], [70, 60, 48]]\n",
            "The maximum sorted Matrix : [[15, 93, 96], [6, 63, 93], [92, 90, 74], [70, 60, 48]]\n"
          ]
        }
      ],
      "source": [
        "# Python3 code to demonstrate working of\n",
        "# Sort Matrix by Maximum Row element\n",
        "# Using sort() + max()\n",
        "\n",
        "def max_sort(row):\n",
        "\treturn max(row)\n",
        "\n",
        "# initializing list\n",
        "test_list = [[92,90,74],[6,63, 93],[15, 93, 96],[70, 60, 48]]\n",
        "\n",
        "# printing original list\n",
        "print(\"The original list is : \" + str(test_list))\n",
        "\n",
        "# sort() for sorting, max to get maximum values\n",
        "test_list.sort(key = max_sort, reverse = True)\n",
        "\n",
        "# printing result\n",
        "print(\"The maximum sorted Matrix : \" + str(test_list))\n"
      ]
    },
    {
      "cell_type": "code",
      "execution_count": 21,
      "metadata": {},
      "outputs": [
        {
          "data": {
            "text/plain": [
              "array([[ 0, 11, 19, 38],\n",
              "       [25, 35, 48, 76],\n",
              "       [49, 49, 85, 88]])"
            ]
          },
          "execution_count": 21,
          "metadata": {},
          "output_type": "execute_result"
        }
      ],
      "source": [
        "# (iv) Sort based on elements value\n",
        "\n",
        "aa = np.sort(a, axis=0)\n",
        "aa = np.sort(aa, axis=1)\n",
        "aa"
      ]
    },
    {
      "cell_type": "code",
      "execution_count": null,
      "metadata": {},
      "outputs": [],
      "source": []
    },
    {
      "attachments": {},
      "cell_type": "markdown",
      "metadata": {
        "id": "Jx_I3gx9lBay"
      },
      "source": [
        "### `Problem-2:` There is an array of marks of 5 students in 4 subjects. Further you are asked to perform below task.\n",
        "\n",
        "    i. Add marks every student of an extra subject in the same array.\n",
        "    ii. Add two new students marks in respective 5 subjects.(one subject added in above task)\n",
        "    iii. Add extra column with sum of all subjects(5-subjects) marks\n",
        "    iv. Sort the array(non-ascending order) on total marks column--one added in above task. Show top 2 rows.\n",
        "\n",
        "Note: Change dimension of arrays during concatenation or appending if required."
      ]
    },
    {
      "cell_type": "code",
      "execution_count": 28,
      "metadata": {
        "id": "7YKsWO2olMkq"
      },
      "outputs": [],
      "source": [
        "# code here\n",
        "marks = [[13, 10,  9, 33],\n",
        "       [63, 46, 90, 42],\n",
        "       [39, 76, 13, 29],\n",
        "       [82,  9, 29, 78],\n",
        "       [67, 61, 59, 36]]"
      ]
    },
    {
      "attachments": {},
      "cell_type": "markdown",
      "metadata": {},
      "source": [
        "np.r_[ ... ] and np.c_[ ... ] are useful alternatives to vstack and hstack, with square brackets [] instead of round ()."
      ]
    },
    {
      "cell_type": "code",
      "execution_count": 30,
      "metadata": {},
      "outputs": [
        {
          "data": {
            "text/plain": [
              "array([[13, 10,  9, 33, 41],\n",
              "       [63, 46, 90, 42, 87],\n",
              "       [39, 76, 13, 29, 72],\n",
              "       [82,  9, 29, 78, 36],\n",
              "       [67, 61, 59, 36, 92]])"
            ]
          },
          "execution_count": 30,
          "metadata": {},
          "output_type": "execute_result"
        }
      ],
      "source": [
        "# (i) Add marks every student of an extra subject in the same array\n",
        "extra_subject = [41, 87, 72, 36, 92]\n",
        "\n",
        "marks = np.c_[marks, extra_subject]\n",
        "marks"
      ]
    },
    {
      "cell_type": "code",
      "execution_count": 32,
      "metadata": {},
      "outputs": [
        {
          "data": {
            "text/plain": [
              "array([[13, 10,  9, 33, 41],\n",
              "       [63, 46, 90, 42, 87],\n",
              "       [39, 76, 13, 29, 72],\n",
              "       [82,  9, 29, 78, 36],\n",
              "       [67, 61, 59, 36, 92],\n",
              "       [77, 83, 98, 95, 89],\n",
              "       [92, 71, 52, 61, 53]])"
            ]
          },
          "execution_count": 32,
          "metadata": {},
          "output_type": "execute_result"
        }
      ],
      "source": [
        "# (ii) Add two new students marks in respective 5 subjects.(one subject added in above task)\n",
        "rec1 = [77, 83, 98, 95, 89]\n",
        "rec2 = [92, 71, 52, 61, 53]\n",
        "\n",
        "marks = np.r_[marks, [rec1,rec2]]\n",
        "marks"
      ]
    },
    {
      "cell_type": "code",
      "execution_count": 33,
      "metadata": {},
      "outputs": [
        {
          "data": {
            "text/plain": [
              "array([[ 13,  10,   9,  33,  41, 106],\n",
              "       [ 63,  46,  90,  42,  87, 328],\n",
              "       [ 39,  76,  13,  29,  72, 229],\n",
              "       [ 82,   9,  29,  78,  36, 234],\n",
              "       [ 67,  61,  59,  36,  92, 315],\n",
              "       [ 77,  83,  98,  95,  89, 442],\n",
              "       [ 92,  71,  52,  61,  53, 329]])"
            ]
          },
          "execution_count": 33,
          "metadata": {},
          "output_type": "execute_result"
        }
      ],
      "source": [
        "# (iii) Add extra column with sum of all subjects(5-subjects) marks\n",
        "\n",
        "total_marks = np.sum(marks, axis=1)\n",
        "\n",
        "marks = np.c_[marks, total_marks]\n",
        "marks"
      ]
    },
    {
      "cell_type": "code",
      "execution_count": 37,
      "metadata": {},
      "outputs": [
        {
          "data": {
            "text/plain": [
              "array([[ 77,  83,  98,  95,  89, 442],\n",
              "       [ 92,  71,  52,  61,  53, 329],\n",
              "       [ 63,  46,  90,  42,  87, 328],\n",
              "       [ 67,  61,  59,  36,  92, 315],\n",
              "       [ 82,   9,  29,  78,  36, 234],\n",
              "       [ 39,  76,  13,  29,  72, 229],\n",
              "       [ 13,  10,   9,  33,  41, 106]])"
            ]
          },
          "execution_count": 37,
          "metadata": {},
          "output_type": "execute_result"
        }
      ],
      "source": [
        "# (iv) Sort the array(non-ascending order) on total marks column--one added in above task. Show top 2 rows\n",
        "\n",
        "m = marks[marks[:, 5].argsort()[::-1]]\n",
        "m"
      ]
    },
    {
      "attachments": {},
      "cell_type": "markdown",
      "metadata": {
        "id": "VmOyK_8klRqR"
      },
      "source": [
        "### `Problem-3:` Find unique arrays from a 2D array column wise and row wise.\n",
        "```\n",
        "arr = np.array([[1,2,3,3,1,1],\n",
        "                [0,9,1,2,8,8],\n",
        "                [1,2,3,8,8,8],\n",
        "                [1,2,3,3,1,1]])\n",
        "```\n",
        "Expected Result-\n",
        "```\n",
        "Row Wise\n",
        "[[0 9 1 2 8 8]\n",
        " [1 2 3 3 1 1]\n",
        " [1 2 3 8 8 8]]\n",
        "\n",
        "Col Wise\n",
        "[[1 1 2 3 3]\n",
        " [0 8 9 1 2]\n",
        " [1 8 2 3 8]\n",
        " [1 1 2 3 3]]\n",
        "```"
      ]
    },
    {
      "cell_type": "code",
      "execution_count": 38,
      "metadata": {
        "id": "LJl10VQrlU5q"
      },
      "outputs": [],
      "source": [
        "# code here\n",
        "arr = np.array([[1,2,3,3,1,1],\n",
        "                [0,9,1,2,8,8],\n",
        "                [1,2,3,8,8,8],\n",
        "                [1,2,3,3,1,1]])"
      ]
    },
    {
      "cell_type": "code",
      "execution_count": 39,
      "metadata": {},
      "outputs": [
        {
          "data": {
            "text/plain": [
              "array([[0, 9, 1, 2, 8, 8],\n",
              "       [1, 2, 3, 3, 1, 1],\n",
              "       [1, 2, 3, 8, 8, 8]])"
            ]
          },
          "execution_count": 39,
          "metadata": {},
          "output_type": "execute_result"
        }
      ],
      "source": [
        "uniqueRows = np.unique(arr, axis=0)\n",
        "uniqueRows"
      ]
    },
    {
      "cell_type": "code",
      "execution_count": 40,
      "metadata": {},
      "outputs": [
        {
          "data": {
            "text/plain": [
              "array([[1, 1, 2, 3, 3],\n",
              "       [0, 8, 9, 1, 2],\n",
              "       [1, 8, 2, 3, 8],\n",
              "       [1, 1, 2, 3, 3]])"
            ]
          },
          "execution_count": 40,
          "metadata": {},
          "output_type": "execute_result"
        }
      ],
      "source": [
        "uniqueCols = np.unique(arr, axis=1)\n",
        "uniqueCols"
      ]
    },
    {
      "attachments": {},
      "cell_type": "markdown",
      "metadata": {
        "id": "RaXwVkywlWY2"
      },
      "source": [
        "### `Problem-4:` Flip given 2-D array along both axes at the same time.\n",
        "\n",
        "```\n",
        "arr = np.array([[1,2,3,3,1,1],\n",
        "                [0,9,1,2,8,8],\n",
        "                [1,2,3,8,8,8],\n",
        "                [1,2,3,3,1,1]])\n",
        "```\n",
        "```\n",
        "Flipped->\n",
        "[[-1  8 -2 14 19 10]\n",
        " [ 7 11  2  1  6  0]\n",
        " [ 1  1  3  3  2  1]\n",
        " [ 8  8  8  3  2  1]\n",
        " [ 8  8  2  1  9  0]\n",
        " [ 1  1  3  3  2  1]]\n",
        "```"
      ]
    },
    {
      "cell_type": "code",
      "execution_count": 41,
      "metadata": {
        "id": "mN7-4G8Kleeq"
      },
      "outputs": [],
      "source": [
        "# code here\n",
        "\n",
        "arr = np.array([[1,2,3,3,1,1],\n",
        "                [0,9,1,2,8,8],\n",
        "                [1,2,3,8,8,8],\n",
        "                [1,2,3,3,1,1]])"
      ]
    },
    {
      "cell_type": "code",
      "execution_count": 46,
      "metadata": {},
      "outputs": [
        {
          "data": {
            "text/plain": [
              "array([[1, 1, 3, 3, 2, 1],\n",
              "       [8, 8, 8, 3, 2, 1],\n",
              "       [8, 8, 2, 1, 9, 0],\n",
              "       [1, 1, 3, 3, 2, 1]])"
            ]
          },
          "execution_count": 46,
          "metadata": {},
          "output_type": "execute_result"
        }
      ],
      "source": [
        "np.flip(arr)"
      ]
    },
    {
      "attachments": {},
      "cell_type": "markdown",
      "metadata": {
        "id": "X0S7BUNTlfoq"
      },
      "source": [
        "### `Problem-5:` Get row numbers of NumPy array having element larger than X.\n",
        "```\n",
        "arr = [[1,2,3,4,5], \n",
        "      [10,-3,30,4,5], \n",
        "      [3,2,5,-4,5], \n",
        "      [9,7,3,6,5]] \n",
        "\n",
        "X = 6\n",
        "```"
      ]
    },
    {
      "cell_type": "code",
      "execution_count": 64,
      "metadata": {
        "id": "bi8jRmWhlkBU"
      },
      "outputs": [],
      "source": [
        "# code here\n",
        "arr = np.array([[1,2,3,4,5], \n",
        "      [10,-3,30,4,5], \n",
        "      [3,2,5,-4,5], \n",
        "      [9,7,3,6,5]])"
      ]
    },
    {
      "cell_type": "code",
      "execution_count": 65,
      "metadata": {},
      "outputs": [
        {
          "data": {
            "text/plain": [
              "array([[ 1,  2,  3,  4,  5],\n",
              "       [10, -3, 30,  4,  5],\n",
              "       [ 3,  2,  5, -4,  5],\n",
              "       [ 9,  7,  3,  6,  5]])"
            ]
          },
          "execution_count": 65,
          "metadata": {},
          "output_type": "execute_result"
        }
      ],
      "source": [
        "arr"
      ]
    },
    {
      "cell_type": "code",
      "execution_count": 66,
      "metadata": {},
      "outputs": [
        {
          "data": {
            "text/plain": [
              "array([10, 30,  9,  7])"
            ]
          },
          "execution_count": 66,
          "metadata": {},
          "output_type": "execute_result"
        }
      ],
      "source": [
        "arr[arr > 6]"
      ]
    },
    {
      "cell_type": "code",
      "execution_count": 68,
      "metadata": {},
      "outputs": [
        {
          "data": {
            "text/plain": [
              "array([10, 30,  9,  7])"
            ]
          },
          "execution_count": 68,
          "metadata": {},
          "output_type": "execute_result"
        }
      ],
      "source": [
        "arr[np.where(arr>6)]\n"
      ]
    },
    {
      "cell_type": "markdown",
      "metadata": {
        "id": "DSCQMo4mlnDG"
      },
      "source": [
        "### `Q-6:` How to convert an array of arrays into a flat 1d array?\n"
      ]
    },
    {
      "cell_type": "code",
      "execution_count": 69,
      "metadata": {
        "id": "QZhSkUT2lsJW"
      },
      "outputs": [],
      "source": [
        "# These arrays are given.\n",
        "arr1 = np.arange(3)\n",
        "arr2 = np.arange(3,7)\n",
        "arr3 = np.arange(7,10)"
      ]
    },
    {
      "cell_type": "code",
      "execution_count": 70,
      "metadata": {
        "id": "f42OXNrFls0I"
      },
      "outputs": [
        {
          "name": "stdout",
          "output_type": "stream",
          "text": [
            "[0 1 2 3 4 5 6 7 8 9]\n"
          ]
        }
      ],
      "source": [
        "arr_2d = np.concatenate([arr1, arr2, arr3])\n",
        "print(arr_2d)"
      ]
    },
    {
      "attachments": {},
      "cell_type": "markdown",
      "metadata": {
        "id": "A1J4oOVCluqO"
      },
      "source": [
        "### `Problem-6:` You are given a array. You have to find the minimum and maximum array element and remove that from the array.\n",
        "\n",
        "np.random.seed(400)\n",
        "arr = np.random.randint(100, 1000, 200).reshape((1, 200))\n",
        "```"
      ]
    },
    {
      "cell_type": "code",
      "execution_count": 71,
      "metadata": {
        "id": "c6kmgtUJlybZ"
      },
      "outputs": [],
      "source": [
        "# code here\n",
        "np.random.seed(400)\n",
        "arr = np.random.randint(100, 1000, 200).reshape((1, 200))"
      ]
    },
    {
      "cell_type": "code",
      "execution_count": 72,
      "metadata": {},
      "outputs": [
        {
          "data": {
            "text/plain": [
              "array([[448, 563, 418, 240, 507, 362, 345, 236, 719, 291, 298, 639, 458,\n",
              "        387, 262, 613, 267, 882, 181, 425, 790, 635, 889, 818, 872, 967,\n",
              "        277, 470, 336, 920, 917, 295, 557, 830, 506, 385, 353, 975, 592,\n",
              "        997, 137, 340, 222, 215, 472, 459, 617, 649, 935, 956, 914, 932,\n",
              "        645, 952, 921, 490, 527, 972, 278, 307, 840, 958, 246, 449, 251,\n",
              "        957, 103, 627, 920, 824, 356, 825, 173, 323, 372, 960, 710, 464,\n",
              "        244, 782, 763, 635, 436, 774, 171, 469, 178, 458, 624, 211, 771,\n",
              "        270, 308, 231, 952, 514, 699, 702, 433, 900, 373, 318, 998, 265,\n",
              "        503, 320, 230, 324, 922, 967, 620, 743, 527, 117, 566, 804, 123,\n",
              "        946, 587, 227, 853, 757, 944, 328, 855, 930, 325, 729, 426, 514,\n",
              "        296, 879, 575, 936, 705, 209, 191, 743, 510, 513, 628, 559, 658,\n",
              "        528, 395, 525, 922, 136, 496, 225, 895, 975, 263, 908, 420, 711,\n",
              "        800, 976, 786, 235, 930, 859, 618, 226, 695, 460, 218, 483, 490,\n",
              "        803, 621, 453, 193, 607, 677, 637, 728, 724, 534, 748, 291, 194,\n",
              "        761, 875, 687, 569, 228, 482, 781, 554, 654, 739, 885, 197, 266,\n",
              "        228, 892, 207, 883, 588]])"
            ]
          },
          "execution_count": 72,
          "metadata": {},
          "output_type": "execute_result"
        }
      ],
      "source": [
        "arr"
      ]
    },
    {
      "cell_type": "code",
      "execution_count": 78,
      "metadata": {},
      "outputs": [
        {
          "data": {
            "text/plain": [
              "array([448, 563, 418, 240, 507, 362, 345, 236, 719, 291, 298, 639, 458,\n",
              "       387, 262, 613, 267, 882, 181, 425, 790, 635, 889, 818, 872, 967,\n",
              "       277, 470, 336, 920, 917, 295, 557, 830, 506, 385, 353, 975, 592,\n",
              "       997, 137, 340, 222, 215, 472, 459, 617, 649, 935, 956, 914, 932,\n",
              "       645, 952, 921, 490, 527, 972, 278, 307, 840, 958, 246, 449, 251,\n",
              "       957, 627, 920, 824, 356, 825, 173, 323, 372, 960, 710, 464, 244,\n",
              "       782, 763, 635, 436, 774, 171, 469, 178, 458, 624, 211, 771, 270,\n",
              "       308, 231, 952, 514, 699, 702, 433, 900, 373, 318, 998, 265, 503,\n",
              "       320, 230, 324, 922, 967, 620, 743, 527, 117, 566, 804, 123, 946,\n",
              "       587, 227, 853, 757, 944, 328, 855, 930, 325, 729, 426, 514, 296,\n",
              "       879, 575, 936, 705, 209, 191, 743, 510, 513, 628, 559, 658, 528,\n",
              "       395, 525, 922, 136, 496, 225, 895, 975, 263, 908, 420, 711, 800,\n",
              "       976, 786, 235, 930, 859, 618, 226, 695, 460, 218, 483, 490, 803,\n",
              "       621, 453, 193, 607, 677, 637, 728, 724, 534, 748, 291, 194, 761,\n",
              "       875, 687, 569, 228, 482, 781, 554, 654, 739, 885, 197, 266, 228,\n",
              "       892, 207, 883, 588])"
            ]
          },
          "execution_count": 78,
          "metadata": {},
          "output_type": "execute_result"
        }
      ],
      "source": [
        "min = np.argmin(arr)\n",
        "np.delete(arr, min)"
      ]
    },
    {
      "cell_type": "code",
      "execution_count": 79,
      "metadata": {},
      "outputs": [
        {
          "data": {
            "text/plain": [
              "array([448, 563, 418, 240, 507, 362, 345, 236, 719, 291, 298, 639, 458,\n",
              "       387, 262, 613, 267, 882, 181, 425, 790, 635, 889, 818, 872, 967,\n",
              "       277, 470, 336, 920, 917, 295, 557, 830, 506, 385, 353, 975, 592,\n",
              "       997, 137, 340, 222, 215, 472, 459, 617, 649, 935, 956, 914, 932,\n",
              "       645, 952, 921, 490, 527, 972, 278, 307, 840, 958, 246, 449, 251,\n",
              "       957, 103, 627, 920, 824, 356, 825, 173, 323, 372, 960, 710, 464,\n",
              "       244, 782, 763, 635, 436, 774, 171, 469, 178, 458, 624, 211, 771,\n",
              "       270, 308, 231, 952, 514, 699, 702, 433, 900, 373, 318, 265, 503,\n",
              "       320, 230, 324, 922, 967, 620, 743, 527, 117, 566, 804, 123, 946,\n",
              "       587, 227, 853, 757, 944, 328, 855, 930, 325, 729, 426, 514, 296,\n",
              "       879, 575, 936, 705, 209, 191, 743, 510, 513, 628, 559, 658, 528,\n",
              "       395, 525, 922, 136, 496, 225, 895, 975, 263, 908, 420, 711, 800,\n",
              "       976, 786, 235, 930, 859, 618, 226, 695, 460, 218, 483, 490, 803,\n",
              "       621, 453, 193, 607, 677, 637, 728, 724, 534, 748, 291, 194, 761,\n",
              "       875, 687, 569, 228, 482, 781, 554, 654, 739, 885, 197, 266, 228,\n",
              "       892, 207, 883, 588])"
            ]
          },
          "execution_count": 79,
          "metadata": {},
          "output_type": "execute_result"
        }
      ],
      "source": [
        "max = np.argmax(arr)\n",
        "np.delete(arr, max)"
      ]
    },
    {
      "attachments": {},
      "cell_type": "markdown",
      "metadata": {
        "id": "0dHN1sdnl0Jy"
      },
      "source": [
        "### `Problem-7:` You are given an arrays. You have to limit this array's elements between 100 to 200. $arr ∈ [100, 700]$. So replace those values accordingly with the minimum and maximum value. Then sort the array and perform the cumulative sum of that array."
      ]
    },
    {
      "cell_type": "code",
      "execution_count": 80,
      "metadata": {
        "id": "a3YF_E-Hlza7"
      },
      "outputs": [
        {
          "data": {
            "text/plain": [
              "array([505, 381, 689, 427, 478, 573, 483, 394, 401, 223, 644, 249, 392,\n",
              "       454, 524, 282, 632, 300, 646, 249, 574, 157, 411, 133])"
            ]
          },
          "execution_count": 80,
          "metadata": {},
          "output_type": "execute_result"
        }
      ],
      "source": [
        "# code here\n",
        "\n",
        "a = np.random.randint(100,700,24)\n",
        "a"
      ]
    },
    {
      "cell_type": "code",
      "execution_count": 84,
      "metadata": {},
      "outputs": [
        {
          "data": {
            "text/plain": [
              "array([133, 157, 200, 200, 200, 200, 200, 200, 200, 200, 200, 200, 200,\n",
              "       200, 200, 200, 200, 200, 200, 200, 200, 200, 200, 200])"
            ]
          },
          "execution_count": 84,
          "metadata": {},
          "output_type": "execute_result"
        }
      ],
      "source": [
        "a = np.clip(a,a_min=100,a_max=200)\n",
        "a"
      ]
    },
    {
      "cell_type": "code",
      "execution_count": 83,
      "metadata": {},
      "outputs": [
        {
          "data": {
            "text/plain": [
              "array([133, 157, 200, 200, 200, 200, 200, 200, 200, 200, 200, 200, 200,\n",
              "       200, 200, 200, 200, 200, 200, 200, 200, 200, 200, 200])"
            ]
          },
          "execution_count": 83,
          "metadata": {},
          "output_type": "execute_result"
        }
      ],
      "source": [
        "a = np.sort(a)\n",
        "a"
      ]
    },
    {
      "cell_type": "code",
      "execution_count": 85,
      "metadata": {},
      "outputs": [
        {
          "data": {
            "text/plain": [
              "array([ 133,  290,  490,  690,  890, 1090, 1290, 1490, 1690, 1890, 2090,\n",
              "       2290, 2490, 2690, 2890, 3090, 3290, 3490, 3690, 3890, 4090, 4290,\n",
              "       4490, 4690])"
            ]
          },
          "execution_count": 85,
          "metadata": {},
          "output_type": "execute_result"
        }
      ],
      "source": [
        "np.cumsum(a)"
      ]
    },
    {
      "attachments": {},
      "cell_type": "markdown",
      "metadata": {
        "id": "cXj90Susl4-I"
      },
      "source": [
        "### `Problem-8:` You are given a array ($arr ∈ [0, 1]$). First you have round off the elements upto 3 decimal places and compare that\n",
        "- 0th percentile == minimum value of the array\n",
        "- 100th percentile == maximum value of the array\n",
        "- also find the difference betwen 51th percenile and 50th percentile values"
      ]
    },
    {
      "cell_type": "code",
      "execution_count": 87,
      "metadata": {
        "id": "SgBEHodgl7Lo"
      },
      "outputs": [
        {
          "data": {
            "text/plain": [
              "array([0.38194531, 0.6004883 , 0.91105984, 0.29858493, 0.86611502,\n",
              "       0.3369211 , 0.73812566, 0.89495347, 0.19867868, 0.11498323,\n",
              "       0.42979021, 0.344658  , 0.74676641, 0.93358655, 0.98002885,\n",
              "       0.38668115, 0.00615072, 0.97140135, 0.99294496, 0.16076545])"
            ]
          },
          "execution_count": 87,
          "metadata": {},
          "output_type": "execute_result"
        }
      ],
      "source": [
        "# code here\n",
        "a = np.random.uniform(0, 1, size=20)\n",
        "a"
      ]
    },
    {
      "cell_type": "code",
      "execution_count": 90,
      "metadata": {},
      "outputs": [
        {
          "data": {
            "text/plain": [
              "array([0.382, 0.6  , 0.911, 0.299, 0.866, 0.337, 0.738, 0.895, 0.199,\n",
              "       0.115, 0.43 , 0.345, 0.747, 0.934, 0.98 , 0.387, 0.006, 0.971,\n",
              "       0.993, 0.161])"
            ]
          },
          "execution_count": 90,
          "metadata": {},
          "output_type": "execute_result"
        }
      ],
      "source": [
        "a = np.round(a, 3)\n",
        "a"
      ]
    },
    {
      "cell_type": "code",
      "execution_count": 91,
      "metadata": {},
      "outputs": [
        {
          "data": {
            "text/plain": [
              "0.006"
            ]
          },
          "execution_count": 91,
          "metadata": {},
          "output_type": "execute_result"
        }
      ],
      "source": [
        "np.percentile(a,0)"
      ]
    },
    {
      "cell_type": "code",
      "execution_count": 92,
      "metadata": {},
      "outputs": [
        {
          "data": {
            "text/plain": [
              "0.993"
            ]
          },
          "execution_count": 92,
          "metadata": {},
          "output_type": "execute_result"
        }
      ],
      "source": [
        "np.percentile(a,100)"
      ]
    },
    {
      "cell_type": "code",
      "execution_count": 93,
      "metadata": {},
      "outputs": [
        {
          "data": {
            "text/plain": [
              "0.032299999999999884"
            ]
          },
          "execution_count": 93,
          "metadata": {},
          "output_type": "execute_result"
        }
      ],
      "source": [
        "x = np.percentile(a,50)\n",
        "y = np.percentile(a,51)\n",
        "z = y-x\n",
        "z"
      ]
    },
    {
      "cell_type": "code",
      "execution_count": null,
      "metadata": {},
      "outputs": [],
      "source": []
    }
  ],
  "metadata": {
    "colab": {
      "provenance": []
    },
    "kernelspec": {
      "display_name": "Python 3",
      "language": "python",
      "name": "python3"
    },
    "language_info": {
      "codemirror_mode": {
        "name": "ipython",
        "version": 3
      },
      "file_extension": ".py",
      "mimetype": "text/x-python",
      "name": "python",
      "nbconvert_exporter": "python",
      "pygments_lexer": "ipython3",
      "version": "3.10.2 (tags/v3.10.2:a58ebcc, Jan 17 2022, 14:12:15) [MSC v.1929 64 bit (AMD64)]"
    },
    "vscode": {
      "interpreter": {
        "hash": "56b2d59c60e4f87487f41cc5e6e8f6aa7185f560bca4a918a113fd85cb7bd9a7"
      }
    }
  },
  "nbformat": 4,
  "nbformat_minor": 0
}
