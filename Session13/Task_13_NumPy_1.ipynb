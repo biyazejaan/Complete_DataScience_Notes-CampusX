{
  "nbformat": 4,
  "nbformat_minor": 0,
  "metadata": {
    "colab": {
      "provenance": []
    },
    "kernelspec": {
      "name": "python3",
      "display_name": "Python 3"
    },
    "language_info": {
      "name": "python"
    }
  },
  "cells": [
    {
      "cell_type": "markdown",
      "source": [
        "**Note: In Data Science googling is a very important skill. If you find some difficulties to solve the problem, google it and try to find some clues to solve.**"
      ],
      "metadata": {
        "id": "6WdKdPGx-tnY"
      }
    },
    {
      "cell_type": "code",
      "source": [
        "import numpy as np"
      ],
      "metadata": {
        "id": "-J4F1ysN4mLk"
      },
      "execution_count": null,
      "outputs": []
    },
    {
      "cell_type": "markdown",
      "source": [
        "###`Q-1` Create a null vector of size 10 but the fifth value which is 1.\n",
        "\n"
      ],
      "metadata": {
        "id": "a_K8IH-C6HDK"
      }
    },
    {
      "cell_type": "code",
      "source": [
        "#Code here"
      ],
      "metadata": {
        "id": "sTF03KsZ6QUI"
      },
      "execution_count": null,
      "outputs": []
    },
    {
      "cell_type": "markdown",
      "source": [
        "###`Q-2` Ask user to input two numbers a, b. Write a program to generate a random array of shape (a, b) and print the array and avg of the array."
      ],
      "metadata": {
        "id": "TEiG25rS6S1i"
      }
    },
    {
      "cell_type": "code",
      "source": [
        "#Code here"
      ],
      "metadata": {
        "id": "ihwn4oOH6Vh7"
      },
      "execution_count": null,
      "outputs": []
    },
    {
      "cell_type": "markdown",
      "source": [
        "###`Q-3`Write a function to create a 2d array with 1 on the border and 0 inside. Take 2-D array shape as (a,b) as parameter to function.\n",
        "\n",
        "Eg.-\n",
        "```\n",
        "[[1,1,1,1],\n",
        "[1,0,0,1],\n",
        "[1,0,0,1],\n",
        "[1,1,1,1]]\n",
        "```"
      ],
      "metadata": {
        "id": "2iEeybS06ZSq"
      }
    },
    {
      "cell_type": "code",
      "source": [
        "#Code here"
      ],
      "metadata": {
        "id": "gEKndkDU6ZSs"
      },
      "execution_count": null,
      "outputs": []
    },
    {
      "cell_type": "markdown",
      "source": [
        "###`Q-4` Create a vector of size 10 with values ranging from 0 to 1, both excluded.\n"
      ],
      "metadata": {
        "id": "QRJicQ8j6ZlE"
      }
    },
    {
      "cell_type": "code",
      "source": [
        "#Code here"
      ],
      "metadata": {
        "id": "eC4XLhDq6ZlF"
      },
      "execution_count": null,
      "outputs": []
    },
    {
      "cell_type": "markdown",
      "source": [
        "###`Q-5` Can you create a identity mattrix of shape (3,4). If yes write code for it."
      ],
      "metadata": {
        "id": "vb4jK4yQ6Zs2"
      }
    },
    {
      "cell_type": "code",
      "source": [
        "#Code here"
      ],
      "metadata": {
        "id": "DTV_AbMS6Zs4"
      },
      "execution_count": null,
      "outputs": []
    },
    {
      "cell_type": "markdown",
      "source": [
        "###`Q-6:` Create a 5x5 matrix with row values ranging from 0 to 4."
      ],
      "metadata": {
        "id": "QtjAFm5PEntK"
      }
    },
    {
      "cell_type": "code",
      "source": [
        "#Code here"
      ],
      "metadata": {
        "id": "z2WGxRjvEuRS"
      },
      "execution_count": null,
      "outputs": []
    },
    {
      "cell_type": "markdown",
      "source": [
        "###`Q-7:`  Consider a random integer (in range 1 to 100) vector with shape `(10,2)` representing coordinates, and coordinates of a point as array is given. Create an array of distance of each point in the random vectros from the given point. Distance array should be interger type.\n",
        "\n",
        "```\n",
        "point = np.array([2,3]) \n",
        "```\n"
      ],
      "metadata": {
        "id": "KPpvxKjVHnyx"
      }
    },
    {
      "cell_type": "code",
      "source": [
        "#code here"
      ],
      "metadata": {
        "id": "X7KGnWLNIM6f"
      },
      "execution_count": null,
      "outputs": []
    },
    {
      "cell_type": "markdown",
      "source": [
        "###`Q-8:` Consider a (6,7,8) shape array, what is the index (x,y,z) of the 100th element?"
      ],
      "metadata": {
        "id": "tajOFJlCDwTr"
      }
    },
    {
      "cell_type": "code",
      "source": [
        "#Code here"
      ],
      "metadata": {
        "id": "qH4oxvs0D3Ra"
      },
      "execution_count": null,
      "outputs": []
    },
    {
      "cell_type": "markdown",
      "source": [
        "### `Q-9:` Arrays\n",
        "\n",
        "You are given a space separated list of numbers. Your task is to print a reversed NumPy array with the element type float.\n",
        "\n"
      ],
      "metadata": {
        "id": "9LxBAbT2Pw33"
      }
    },
    {
      "cell_type": "markdown",
      "source": [
        "**Input Format:**\n",
        "\n",
        "A single line of input containing space separated numbers.\n",
        "\n",
        "**Output Format:**\n",
        "\n",
        "Print the reverse NumPy array with type float.\n",
        "\n",
        "**Example 1:**\n",
        "\n",
        "Input:\n",
        "\n",
        "```bash\n",
        "1 2 3 4 -8 -10\n",
        "```\n",
        "\n",
        "Output:\n",
        "\n",
        "```bash\n",
        "[-10.  -8.   4.   3.   2.   1.]\n",
        "```"
      ],
      "metadata": {
        "id": "JJpqVms2Nq7L"
      }
    },
    {
      "cell_type": "code",
      "source": [
        "#Code here"
      ],
      "metadata": {
        "id": "7iQyg6ChNl3j"
      },
      "execution_count": null,
      "outputs": []
    },
    {
      "cell_type": "markdown",
      "source": [
        "### `Q-10:` Elements count\n",
        "\n",
        "Count the number of elements of a numpy array.\n",
        "\n"
      ],
      "metadata": {
        "id": "TPxD7jM8Sjz9"
      }
    },
    {
      "cell_type": "markdown",
      "source": [
        "**Example 1:**\n",
        "\n",
        "Input:\n",
        "```bash\n",
        "np.array([])\n",
        "```\n",
        "\n",
        "Output:\n",
        "```bash\n",
        "elements_count :  0\n",
        "```\n",
        "\n",
        "**Example 2:**\n",
        "\n",
        "Input:\n",
        "```bash\n",
        "np.array([1, 2])\n",
        "```\n",
        "\n",
        "Output:\n",
        "```bash\n",
        "elements_count :  2\n",
        "```"
      ],
      "metadata": {
        "id": "oHTiTz_jNkAU"
      }
    },
    {
      "cell_type": "code",
      "source": [
        "#Code here"
      ],
      "metadata": {
        "id": "RG0H2I-TNeGN"
      },
      "execution_count": null,
      "outputs": []
    },
    {
      "cell_type": "markdown",
      "source": [
        "### `Q-11:` Softmax function\n",
        "\n",
        "Create a Python function to calculate the Softmax of the given numpy 1D array. The function only accepts the numpy 1D array, otherwise raise error.\n",
        "\n",
        "$$\\Large \\sigma(\\vec z)_i = \\frac{e^{z_i}}{\\sum_{j=i}^{K}{e^{z_j}}}$$\n",
        "\n",
        "https://en.wikipedia.org/wiki/Softmax_function\n",
        "\n"
      ],
      "metadata": {
        "id": "pwgPz-3l5ic5"
      }
    },
    {
      "cell_type": "markdown",
      "source": [
        "**Example 1:**\n",
        "\n",
        "Input:\n",
        "```bash\n",
        "[86.03331084 37.7285648  48.64908087 87.16563062 38.40852563 37.20006318]\n",
        "```\n",
        "\n",
        "Output:\n",
        "```bash\n",
        "[2.43733249e-01, 2.56112115e-22, 1.41628284e-17, 7.56266751e-01, \n",
        "       5.05514197e-22, 1.50974911e-22]\n",
        "```\n",
        "\n",
        "**Example 2:**\n",
        "\n",
        "Input:\n",
        "```bash\n",
        "[33.17344305 45.61961654 82.05405781 80.9647098  68.82830233 91.52064278]\n",
        "```\n",
        "\n",
        "Output:\n",
        "```bash\n",
        "[4.57181035e-26, 1.16249923e-20, 7.73872596e-05, 2.60358426e-05,\n",
        "       1.39571531e-10, 9.99896577e-01]\n",
        "```"
      ],
      "metadata": {
        "id": "eZ3WJt6UM1ul"
      }
    },
    {
      "cell_type": "code",
      "source": [
        "#Code here"
      ],
      "metadata": {
        "id": "VNzj05lkNaNi"
      },
      "execution_count": null,
      "outputs": []
    },
    {
      "cell_type": "markdown",
      "source": [
        "### `Q-12:` Vertical stack\n",
        "\n",
        "Write a python function that accepts infinite number of numpy arrays and do the vertical stack to them. Then return that new array as result. The function only accepts the numpy array, otherwise raise error.\n",
        "\n"
      ],
      "metadata": {
        "id": "k4JWSwWu_HXg"
      }
    },
    {
      "cell_type": "markdown",
      "source": [
        "**Example 1:**\n",
        "\n",
        "Input:\n",
        "```bash\n",
        "a= [[0 1 2 3 4]\n",
        " [5 6 7 8 9]]\n",
        "\n",
        "b= [[1 1 1 1 1]\n",
        " [1 1 1 1 1]]\n",
        "```\n",
        "\n",
        "Output:\n",
        "\n",
        "```bash\n",
        "[[0 1 2 3 4]\n",
        " [5 6 7 8 9]\n",
        " [1 1 1 1 1]\n",
        " [1 1 1 1 1]]\n",
        "```\n",
        "\n",
        "**Example 2:**\n",
        "\n",
        "Input:\n",
        "```bash\n",
        "a= [[0 1 2 3 4]\n",
        " [5 6 7 8 9]]\n",
        "\n",
        "b= [[1 1 1 1 1]\n",
        " [1 1 1 1 1]]\n",
        "\n",
        "c= [[0.10117373 0.1677244  0.73764059 0.83166097 0.48985695]\n",
        " [0.44581567 0.13502419 0.55692335 0.16479622 0.61193593]] \n",
        "```\n",
        "\n",
        "Output:\n",
        "```bash\n",
        "[[0.         1.         2.         3.         4.        ]\n",
        " [5.         6.         7.         8.         9.        ]\n",
        " [1.         1.         1.         1.         1.        ]\n",
        " [1.         1.         1.         1.         1.        ]\n",
        " [0.10117373 0.1677244  0.73764059 0.83166097 0.48985695]\n",
        " [0.44581567 0.13502419 0.55692335 0.16479622 0.61193593]]\n",
        "```"
      ],
      "metadata": {
        "id": "XhhV3mraNAWr"
      }
    },
    {
      "cell_type": "code",
      "source": [
        "#Coder here"
      ],
      "metadata": {
        "id": "dhtnbSj6NP8z"
      },
      "execution_count": null,
      "outputs": []
    },
    {
      "cell_type": "markdown",
      "source": [
        "### `Q-13:` Dates\n",
        "\n",
        "Create a python function named **date_array** that accepts two dates as string format and returns a numpy array of dates between those 2 dates. The function only accept 2 strings, otherwise raise error. The date format should be like this only: `2022-12-6`. The end date should be included and for simplicity, choose dates from a same year.\n",
        "\n"
      ],
      "metadata": {
        "id": "3mk8T6CuC2DP"
      }
    },
    {
      "cell_type": "markdown",
      "source": [
        "**Example 1:**\n",
        "\n",
        "Input:\n",
        "```bash\n",
        "date_array(start = '2020-09-15', end = '2020-09-25')\n",
        "```\n",
        "\n",
        "Output:\n",
        "```bash\n",
        "['2020-09-15', '2020-09-16', '2020-09-17', '2020-09-18',\n",
        " '2020-09-19', '2020-09-20', '2020-09-21', '2020-09-22',\n",
        " '2020-09-23', '2020-09-24', '2020-09-25']\n",
        "```\n",
        "\n",
        "**Example 2:**\n",
        "\n",
        "Input:\n",
        "```bash\n",
        "date_array(start = '2022-12-01', end = '2022-12-06')\n",
        "```\n",
        "\n",
        "Output:\n",
        "```bash\n",
        "['2022-12-01', '2022-12-02', '2022-12-03', '2022-12-04', '2022-12-05', '2022-12-06']\n",
        "```\n",
        "\n",
        "**Example 3:**\n",
        "\n",
        "Input:\n",
        "```bash\n",
        "date_array(start = '2020-11-25', end = '2020-11-30')\n",
        "```\n",
        "\n",
        "Output:\n",
        "```bash\n",
        "['2020-11-25', '2020-11-26', '2020-11-27', '2020-11-28',\n",
        " '2020-11-29', '2020-11-30']\n",
        "```"
      ],
      "metadata": {
        "id": "E3IgjnTTNFEk"
      }
    },
    {
      "cell_type": "code",
      "source": [
        "#Code here"
      ],
      "metadata": {
        "id": "Yj5PBfQQNTnL"
      },
      "execution_count": null,
      "outputs": []
    },
    {
      "cell_type": "markdown",
      "source": [
        "###`Q-14:` Subtract the mean of each row from a matrix."
      ],
      "metadata": {
        "id": "bcEp0wTWQijK"
      }
    },
    {
      "cell_type": "code",
      "source": [
        "#code here"
      ],
      "metadata": {
        "id": "rpILVGcgQzMo"
      },
      "execution_count": null,
      "outputs": []
    },
    {
      "cell_type": "markdown",
      "source": [
        "###`Q-15:` Swap column-1 of array with column-2 in the array."
      ],
      "metadata": {
        "id": "A-dMVlPPSBTT"
      }
    },
    {
      "cell_type": "code",
      "source": [
        "#Code here"
      ],
      "metadata": {
        "id": "3RtngM9-Q6S7"
      },
      "execution_count": null,
      "outputs": []
    },
    {
      "cell_type": "code",
      "source": [],
      "metadata": {
        "id": "ueoMV_LlSnGU"
      },
      "execution_count": null,
      "outputs": []
    },
    {
      "cell_type": "markdown",
      "source": [
        "###`Q-16:` Replace odd elements in arrays with -1."
      ],
      "metadata": {
        "id": "cB4VMexvS6Zi"
      }
    },
    {
      "cell_type": "code",
      "source": [
        "#Code here"
      ],
      "metadata": {
        "id": "Bt83nXEVS5O4"
      },
      "execution_count": null,
      "outputs": []
    },
    {
      "cell_type": "code",
      "source": [],
      "metadata": {
        "id": "1ZlvMaXLVyoW"
      },
      "execution_count": null,
      "outputs": []
    },
    {
      "cell_type": "markdown",
      "source": [
        "###`Q-17:` Given two arrays of same shape make an array of max out of two arrays. (Numpy way)\n",
        "```\n",
        "a=np.array([6,3,1,5,8])\n",
        "b=np.array([3,2,1,7,2])\n",
        "\n",
        "Result-> [6 3 1 7 8]\n",
        "``` "
      ],
      "metadata": {
        "id": "kf_qvmBxWIT_"
      }
    },
    {
      "cell_type": "code",
      "source": [
        "#Code here"
      ],
      "metadata": {
        "id": "TB9ZvF-EZSfu"
      },
      "execution_count": null,
      "outputs": []
    },
    {
      "cell_type": "code",
      "source": [],
      "metadata": {
        "id": "D7ad-A6jZzCL"
      },
      "execution_count": null,
      "outputs": []
    },
    {
      "cell_type": "markdown",
      "source": [
        "###`Q-18` Answer below asked questions on given array:\n",
        "1. Fetch Every alternate column of the array\n",
        "2. Normalise the given array\n",
        "\n",
        "https://en.wikipedia.org/wiki/Normalization_(statistics)\n",
        "\n",
        "There are different form of normalisation for this question use below formula.\n",
        "\n",
        "$$\\large X_{normalized} = \\frac{X - X_{min}}{X_{max} - X_{min}}$$\n",
        "\n",
        "```python\n",
        "arr1=np.random.randint(low=1, high=10000, size=40).reshape(8,5)\n",
        "```\n"
      ],
      "metadata": {
        "id": "iOQLUIeGc3zA"
      }
    },
    {
      "cell_type": "code",
      "source": [
        "# Given\n",
        "arr1=np.random.randint(low=1, high=10000, size=40).reshape(8,5)\n",
        "arr1"
      ],
      "metadata": {
        "colab": {
          "base_uri": "https://localhost:8080/"
        },
        "id": "vjSm18k3d_1p",
        "outputId": "83d23b61-d2ae-41bc-e91e-0e0722667521"
      },
      "execution_count": null,
      "outputs": [
        {
          "output_type": "execute_result",
          "data": {
            "text/plain": [
              "array([[2939, 1694, 6680, 8865, 2684],\n",
              "       [4066, 4573,  327, 6525,  851],\n",
              "       [5997, 7481, 2315, 5863, 9615],\n",
              "       [7821, 1225, 9138, 1114, 4885],\n",
              "       [7715, 8046, 9105, 3935, 3182],\n",
              "       [8842, 4836, 2705, 3751, 3800],\n",
              "       [4132, 1400, 7844, 9471, 7526],\n",
              "       [2749, 2624, 6900, 1576, 7515]])"
            ]
          },
          "metadata": {},
          "execution_count": 34
        }
      ]
    },
    {
      "cell_type": "code",
      "source": [
        "#Code here"
      ],
      "metadata": {
        "id": "d7u8DB47eBfQ"
      },
      "execution_count": null,
      "outputs": []
    },
    {
      "cell_type": "markdown",
      "source": [
        "###`Q-19:` Write a function which will accept 2 arguments.\n",
        "First: A 1D numpy array arr\n",
        "\n",
        "Second: An integer n {Please make sure n<=len(arr)}\n",
        "\n",
        "Output: The output should be the nth largest item out of the array\n",
        "```\n",
        "# Example1 : arr=(12,34,40,7,1,0) and n=3, the output should be 12\n",
        "# Example2 : arr=(12,34,40,7,1,0) and n=1, the output should be 40\n",
        "```"
      ],
      "metadata": {
        "id": "jCzsVEKLgGNo"
      }
    },
    {
      "cell_type": "code",
      "source": [
        "#Code here"
      ],
      "metadata": {
        "id": "J4AzkDk7gXSG"
      },
      "execution_count": null,
      "outputs": []
    },
    {
      "cell_type": "markdown",
      "source": [
        "###`Q-20:` Create the following pattern without hardcoding. Use only numpy functions and the below input array a.\n",
        "```\n",
        "# Input: a = np.array([1,2,3])\n",
        "# Output: array([1, 1, 1, 2, 2, 2, 3, 3, 3, 1, 2, 3, 1, 2, 3, 1, 2, 3])\n",
        "```"
      ],
      "metadata": {
        "id": "ja0xPCgjhBsg"
      }
    },
    {
      "cell_type": "code",
      "source": [
        "#code here"
      ],
      "metadata": {
        "id": "CndS8TTNhG0F"
      },
      "execution_count": null,
      "outputs": []
    }
  ]
}