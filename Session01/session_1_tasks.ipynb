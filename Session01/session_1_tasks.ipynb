{
  "cells": [
    {
      "cell_type": "markdown",
      "metadata": {
        "id": "A05OG15VqOPF"
      },
      "source": [
        "# Task : Session 1\n",
        "Solve these questions own your own and try to test yourself what you have learned in the session.\n",
        "\n",
        "Happy Learning!"
      ]
    },
    {
      "cell_type": "markdown",
      "metadata": {
        "id": "2doIXf8bqe9_"
      },
      "source": [
        "### Q1 :- Print the given strings as per stated format.\n",
        "\n",
        "**Given strings**: \n",
        "```\n",
        "\"Data\" \"Science\" \"Mentorship\" \"Program\" \n",
        "\"By\" \"CampusX\"\n",
        "```\n",
        "**Output**: \n",
        "``` \n",
        "Data-Science-Mentorship-Program-started-By-CampusX\n",
        "```\n",
        "\n",
        "Concept- [Seperator and End]"
      ]
    },
    {
      "cell_type": "code",
      "execution_count": 1,
      "metadata": {
        "id": "-em6d3KErDtp"
      },
      "outputs": [
        {
          "name": "stdout",
          "output_type": "stream",
          "text": [
            "Data-Science-Mentorship-Program-By-CampusX\n"
          ]
        }
      ],
      "source": [
        "# Write your code here\n",
        "print(\"Data\", \"Science\", \"Mentorship\", \"Program\", \"By\", \"CampusX\", sep= '-')\n",
        "\n",
        "## 'sep' parameter ko use kar ky hum string ko '-' se divide kar sakte hain."
      ]
    },
    {
      "cell_type": "markdown",
      "metadata": {
        "id": "1KUpN7ZTrC3_"
      },
      "source": [
        "### Q2:- Write a program that will convert celsius value to fahrenheit."
      ]
    },
    {
      "cell_type": "code",
      "execution_count": 2,
      "metadata": {
        "id": "yxKYhYQiqWfj"
      },
      "outputs": [
        {
          "name": "stdout",
          "output_type": "stream",
          "text": [
            "56.0° in Celsius is equivalent to 132.8° Fahrenheit.\n"
          ]
        }
      ],
      "source": [
        "# Write your code here\n",
        "celsius = float(input(\"Enter temperature in celsius: \"))\n",
        "## 'float' function ko use kar ky hum input ko float type main convert kar sakte hain.\n",
        "## user se input le kar 'celsius' variable main store kar diya.\n",
        "\n",
        "fahrenheit = (celsius * 1.8) + 32\n",
        "## 'fahrenheit' variable main 'celsius' variable ko 1.8 se multiply kar ky 32 add kar diya.\n",
        "\n",
        "\n",
        "print(str(celsius) + \"° in Celsius is equivalent to \" + str(fahrenheit) + \"° Fahrenheit.\")\n",
        "\n",
        "## 'str' function ko use kar ky hum 'celsius' aur 'fahrenheit' variable ko string type main convert kar sakte hain."
      ]
    },
    {
      "cell_type": "markdown",
      "metadata": {
        "id": "RLrOBBJurLB2"
      },
      "source": [
        "### Q3:- Take 2 numbers as input from the user.Write a program to swap the numbers without using any special python syntax."
      ]
    },
    {
      "cell_type": "code",
      "execution_count": 5,
      "metadata": {
        "id": "yPn7if0TrJ4F"
      },
      "outputs": [
        {
          "name": "stdout",
          "output_type": "stream",
          "text": [
            "Before swapping:  First Number is 13 and Second Number is 5\n",
            "After swapping:  First Number is 5 and Second Number is 13\n"
          ]
        }
      ],
      "source": [
        "# Write program to swap two numbers\n",
        "first_num = input(\"Enter first number: \")\n",
        "second_num = input(\"Enter second number: \")\n",
        "print('Before swapping: ', 'First Number is', first_num, 'and Second Number is', second_num)\n",
        "temp = first_num\n",
        "first_num = second_num\n",
        "second_num = temp \n",
        "## Pahly step mein hum ny \"first_num\" ko \"temp\" variable main store kar diya.\n",
        "## ab \"first_num\" variable ko replace kar sakty hen kunka uski value \"temp\" mein save ho gae hai\n",
        "## phir second step mein \"second_num\" ki value \"first_num\" main store kar diya.\n",
        "## ab \"second_num\" mein temp ki value store kar di jo ka asal mein \"first_num\" ki value thi.\n",
        "\n",
        "print('After swapping: ', 'First Number is', first_num, 'and Second Number is', second_num)\n"
      ]
    },
    {
      "cell_type": "markdown",
      "metadata": {
        "id": "waLCP1bjr7ML"
      },
      "source": [
        "### Q4:- Write a program to find the euclidean distance between two coordinates.Take both the coordinates from the user as input."
      ]
    },
    {
      "cell_type": "code",
      "execution_count": 6,
      "metadata": {
        "id": "Pl1Sv-xnrxnH"
      },
      "outputs": [
        {
          "name": "stdout",
          "output_type": "stream",
          "text": [
            "Distance between two points is:  20.615528128088304\n"
          ]
        }
      ],
      "source": [
        "# Write your code here\n",
        "x1 = float(input(\"Enter the x axis of 1st point: \"))\n",
        "y1 = float(input(\"Enter the y axis of 1st point: \"))\n",
        "x2 = float(input(\"Enter the x axis of 2nd point: \"))\n",
        "y2 = float(input(\"Enter the y axis of 3nd point: \"))\n",
        "\n",
        "distance = ((x2 - x1)**2 + (y2 - y1)**2)**0.5\n",
        "print(\"Distance between two points is: \", distance)"
      ]
    },
    {
      "cell_type": "markdown",
      "metadata": {
        "id": "VLrhg-FRsHjR"
      },
      "source": [
        "### Q5:- Write a program to find the simple interest when the value of principle,rate of interest and time period is provided by the user.\n"
      ]
    },
    {
      "cell_type": "code",
      "execution_count": null,
      "metadata": {
        "id": "s40DlReZsTmY"
      },
      "outputs": [],
      "source": [
        "# Write your code here\n",
        "p = float(input(\"Enter the principle amount: \"))\n",
        "r = float(input(\"Enter the rate of interest: \"))\n",
        "t = float(input(\"Enter the time period: \"))\n",
        "\n",
        "interest = (p * r * t) / 100\n",
        "print(\"Interest is: \", interest)"
      ]
    },
    {
      "cell_type": "markdown",
      "metadata": {
        "id": "LMy0BTUktYKa"
      },
      "source": [
        "### Q6:- Write a program that will tell the number of dogs and chicken are there when the user will provide the value of total heads and legs.\n",
        "\n",
        "For example:\n",
        "Input:\n",
        "heads -> 4\n",
        "legs -> 12\n",
        "<br>\n",
        "Output:\n",
        "dogs -> 2\n",
        "chicken -> 2\n",
        "\n",
        "\n",
        "\n"
      ]
    },
    {
      "cell_type": "code",
      "execution_count": 2,
      "metadata": {},
      "outputs": [],
      "source": [
        "import numpy as np"
      ]
    },
    {
      "cell_type": "code",
      "execution_count": 4,
      "metadata": {
        "id": "XSBvJoA4tXaG"
      },
      "outputs": [
        {
          "name": "stdout",
          "output_type": "stream",
          "text": [
            "Number of chickens:  44.0\n",
            "Number of dogs:  28.0\n"
          ]
        }
      ],
      "source": [
        "# Write your code here\n",
        "l = int(input(\"Enter the number of legs: \"))\n",
        "m = int(input(\"Enter the number of heads: \"))\n",
        "                                                                                                                                                                       \n",
        "A = np.array([[2,4],[1,1]])\n",
        "B = np.array([l,m])\n",
        "\n",
        "x = np.linalg.solve(A,B)\n",
        "print(\"Number of chickens: \", x[0])\n",
        "print(\"Number of dogs: \", x[1])"
      ]
    },
    {
      "cell_type": "markdown",
      "metadata": {
        "id": "gJ7C5kZYt4BP"
      },
      "source": [
        "### Q7:- Write a program to find the sum of squares of first n natural numbers where n will be provided by the user."
      ]
    },
    {
      "cell_type": "code",
      "execution_count": 6,
      "metadata": {
        "id": "_tHsmEHzt2nX"
      },
      "outputs": [
        {
          "name": "stdout",
          "output_type": "stream",
          "text": [
            "Result is:  14\n"
          ]
        }
      ],
      "source": [
        "# Write your code here\n",
        "n = int(input(\"Enter the number: \"))\n",
        "\n",
        "result = (n*(n+1)*(2*n+1))/6\n",
        "print(\"Result is: \", int(result))"
      ]
    },
    {
      "cell_type": "markdown",
      "metadata": {
        "id": "FHrMM7g-yG1h"
      },
      "source": [
        "### Q8:- Given the first 2 terms of an Arithmetic Series.Find the Nth term of the series. Assume all inputs are provided by the user."
      ]
    },
    {
      "cell_type": "code",
      "execution_count": 2,
      "metadata": {
        "id": "go4_kmZmyVSx"
      },
      "outputs": [
        {
          "name": "stdout",
          "output_type": "stream",
          "text": [
            "Nth termis:  15\n"
          ]
        }
      ],
      "source": [
        "# Write your code here\n",
        "first_term = int(input('Enter 1st term: '))\n",
        "second_term = int(input('Enter 2st term: '))\n",
        "n = int(input('Enter the value of n'))\n",
        "d = second_term - first_term\n",
        "a = first_term\n",
        "an =  a + (n-1)*d\n",
        "print('Nth termis: ', an)"
      ]
    },
    {
      "cell_type": "markdown",
      "metadata": {
        "id": "QgyRX_es1oum"
      },
      "source": [
        "### Q9:- Given 2 fractions, find the sum of those 2 fractions.Take the numerator and denominator values of the fractions from the user."
      ]
    },
    {
      "cell_type": "code",
      "execution_count": 5,
      "metadata": {
        "id": "X05xqFS1yW16"
      },
      "outputs": [
        {
          "name": "stdout",
          "output_type": "stream",
          "text": [
            "Sum of Two fractions is :  0.5833333333333334\n"
          ]
        }
      ],
      "source": [
        "# Write your code here\n",
        "n1 = int(input('Enter the Numerator of the First Fraction:   '))\n",
        "d1 = int(input('Enter the Denomimator of the First Fraction:   '))\n",
        "n2 = int(input('Enter the Numerator of the Second Fraction:   '))\n",
        "d2 = int(input('Enter the Denomimator of the Second Fraction:   '))\n",
        "\n",
        "x = n1*d2 + n2*d1\n",
        "y = d1*d2\n",
        "print('Sum of Two fractions is : ', str(x/y))"
      ]
    },
    {
      "cell_type": "markdown",
      "metadata": {
        "id": "eaql38ln13u7"
      },
      "source": [
        "### Q10:- Given the height, width and breadth of a milk tank, you have to find out how many glasses of milk can be obtained? Assume all the inputs are provided by the user.\n",
        "\n",
        "\n",
        "\n",
        "Input:<br>\n",
        "Dimensions of the milk tank<br>\n",
        "H = 20cm, L = 20cm, B = 20cm\n",
        "<br><br>\n",
        "Dimensions of the glass<br>\n",
        "h = 3cm, r = 1cm"
      ]
    },
    {
      "cell_type": "code",
      "execution_count": 8,
      "metadata": {
        "id": "FePZqno74eWv"
      },
      "outputs": [
        {
          "name": "stdout",
          "output_type": "stream",
          "text": [
            "No of Glasses : 30\n"
          ]
        }
      ],
      "source": [
        "# Write your code here\n",
        "tank_height = float(input(\"Enter the height of Tank: \"))\n",
        "tank_width = float(input(\"Enter the width of Tank: \"))\n",
        "tank_breadth = float(input(\"Enter the breadth of Tank: \"))\n",
        "\n",
        "glass_height = float(input(\"Enter the height of Glass: \"))\n",
        "glass_radius = float(input(\"Enter the radius of Glass: \"))\n",
        "\n",
        "volume_of_tank = tank_width*tank_breadth*tank_height\n",
        "volume_of_glass = 3.1416*((glass_radius)**2)*(glass_height)\n",
        "\n",
        "no_of_glasses = int(volume_of_tank/volume_of_glass)\n",
        "print('No of Glasses :', no_of_glasses)"
      ]
    },
    {
      "cell_type": "code",
      "execution_count": null,
      "metadata": {},
      "outputs": [],
      "source": []
    },
    {
      "cell_type": "code",
      "execution_count": null,
      "metadata": {},
      "outputs": [],
      "source": []
    }
  ],
  "metadata": {
    "colab": {
      "provenance": []
    },
    "kernelspec": {
      "display_name": "workplace",
      "language": "python",
      "name": "python3"
    },
    "language_info": {
      "codemirror_mode": {
        "name": "ipython",
        "version": 3
      },
      "file_extension": ".py",
      "mimetype": "text/x-python",
      "name": "python",
      "nbconvert_exporter": "python",
      "pygments_lexer": "ipython3",
      "version": "3.10.4"
    },
    "vscode": {
      "interpreter": {
        "hash": "5cbc8b7aa53cdb96140388c9a3a498a63dfdfd4bc3edcfaa89696914409e1b68"
      }
    }
  },
  "nbformat": 4,
  "nbformat_minor": 0
}
